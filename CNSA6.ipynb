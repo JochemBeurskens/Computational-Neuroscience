{
 "cells": [
  {
   "cell_type": "markdown",
   "metadata": {
    "id": "TixqKx1DJbAT"
   },
   "source": [
    "## Computational Neuroscience Assignment 6\n",
    "\n",
    "### Authors:\n",
    "* Jochem Beurskens s4637801\n",
    "* Kirina van der Bijl S1061566\n",
    "* Arne Diehl S4451392"
   ]
  },
  {
   "cell_type": "code",
   "execution_count": 116,
   "metadata": {
    "executionInfo": {
     "elapsed": 1239,
     "status": "ok",
     "timestamp": 1608566500794,
     "user": {
      "displayName": "AD",
      "photoUrl": "https://lh3.googleusercontent.com/a-/AOh14Gjx_I26ZGCa4R1NaUrO4rg8RHBTjADOtriSJZ03_A=s64",
      "userId": "12357515783115079539"
     },
     "user_tz": -60
    },
    "id": "5eAQCo2W6Dqq"
   },
   "outputs": [],
   "source": [
    "import numpy as np\n",
    "import matplotlib.pyplot as plt\n",
    "import matplotlib.ticker as ticker\n",
    "from mpl_toolkits import mplot3d\n",
    "import scipy as sp\n",
    "from scipy.optimize import curve_fit\n",
    "from scipy.interpolate import interp1d\n",
    "from scipy import optimize, integrate\n",
    "import networkx as nx\n",
    "import sys"
   ]
  },
  {
   "cell_type": "markdown",
   "metadata": {
    "id": "2T0rkAxtHPGa"
   },
   "source": [
    "## 1.a Calculate the entropy of the binary process which gives 1 (a spike) with probability r∆t, and 0 (no spike) with probability 1-r$\\Delta$t."
   ]
  },
  {
   "cell_type": "markdown",
   "metadata": {
    "id": "N1NhnWc4SRQu"
   },
   "source": [
    "A binary process is also called a bernoulli process.\n",
    "The entropy is defined as $$H=-\\sum_ip_i\\log_2(p_i)$$\n",
    "There are two possible outcomes (spike or no spike), which happen with $p_{spike}= r*\\Delta t$ and $p_{no spike}=1-r*\\Delta t$\n",
    "Thus for a single event this specific binary process, the entropy is given by this:\n",
    "$$H=-(r*\\Delta t)\\log_2(r*\\Delta t)-(1- r*\\Delta t)\\log_2(1-r*\\Delta t)$$\n",
    "Since we operate under the assumption of modelling a poisson process that is iid and that r is a rate per second, we have that the rate is \n",
    "$$H=\\dfrac{1}{\\Delta t}(-(r*\\Delta t)\\log_2(r*\\Delta t)-(1- r*\\Delta t)\\log_2(1-r*\\Delta t))$$\n",
    "$$H=(-(r)\\log_2(r*\\Delta t)-(\\dfrac{1}{\\Delta t}- r)\\log_2(1-r*\\Delta t))$$\n"
   ]
  },
  {
   "cell_type": "markdown",
   "metadata": {
    "id": "uNX-goG6-g3C"
   },
   "source": [
    "## 1.b The interspike interval distribution is exponential: $p(t)=r\\exp(-rt)$. Determine the entropy per interspike interval and convert it to an entropy rate."
   ]
  },
  {
   "cell_type": "markdown",
   "metadata": {
    "id": "otrn-yJ0-8vw"
   },
   "source": [
    "For a given interspike interval distribution, $p(t)$, we have an entropy and entropy rate as given by formulas 4.52 and 4.53 from the Dayan-Abott book. Here we will show the derivation of the result of 4.53.\n",
    "\n",
    "$$p(t)=r*exp(-r t)$$$$ \\dot{H} = - r * \\int_{0}^{\\infty} dt p(t)*log_{2}(p(t)\\Delta t)$$ solving the integral with $p(t)$ plugged in: $$ \\int_{0}^{\\infty}r*exp(-rt)*log_{2}(r*exp(-rt)*\\Delta t) dt $$$$= \\int_{0}^{\\infty}r*exp(-rt)*\\dfrac{log_{e}(r*exp(-rt)*\\Delta t)}{log_{2}(2)} dt $$$$= \\dfrac{1}{ln(2)}*\\int_{0}^{\\infty}r*exp(-rt)*(-rt+ln(r*\\Delta t) dt $$$$=\\dfrac{1}{ln(2)}* \\left( \\int_{0}^{\\infty} -r^2*t*exp(-r*t) dt + \\int_{0}^{\\infty} ln(r*\\Delta t)*r*exp(-r*t) dt \\right) = Q$$\n",
    "\n",
    "These are standard exponential integrals: \n",
    "$$\\int_{0}^{\\infty}exp(-a*x^b)dx= \\dfrac{\\Gamma(\\dfrac{1}{b})}{a^bb}$$$$\n",
    "\\int_{0}^{\\infty}x^n * exp(-a*x^b)dx = \\dfrac{1}{b}*a^{\\dfrac{-n+1}{b}}*\\Gamma(\\dfrac{n+1}{b})$$\n",
    "So we obtain in the integral above:\n",
    "\n",
    "$$Q = \\dfrac{1}{ln(2)} * \\left( -r^2 * 1*r^{-2}*1+ ln(r*\\Delta t)* 1*r*r^{-1}*1 \\right) $$$$= \\dfrac{1}{ln(2)} * \\left( -1+ ln(r*\\Delta t) \\right)$$\n",
    "\n",
    "And thus we get for the entropy rate:\n",
    "\n",
    "$$\\dot{H}= \\dfrac{-r}{ln(2)}* \\left( -1+ ln(r*\\Delta t) \\right) = \\dfrac{r}{ln(2)}* \\left( 1- ln(r*\\Delta t) \\right)$$"
   ]
  },
  {
   "cell_type": "markdown",
   "metadata": {
    "id": "LzMn_xpmEB6m"
   },
   "source": [
    "## 2.a Determine what the exact mutual information between r and s is.\n"
   ]
  },
  {
   "cell_type": "markdown",
   "metadata": {
    "id": "kQntxqeXEJQQ"
   },
   "source": [
    "We want to calculate $I(r|s) = H(r) - H(r|s)$\n",
    "\n",
    "For $H(r)$ we have $H(r)=-\\sum p(r)\\log_2(p(r))$\n",
    "\n",
    "For $H(r|s)$ we have $H(r|s)=-\\sum_s p(s) \\sum_rp(r|s)log_2(p(r|s))$\n",
    "\n",
    "From this follows a more concise description of I(r|s):\n",
    "$$I(r|s)=-\\sum_sp(s)\\sum_rp(r|s)log_2\\dfrac{p(r|s)}{p(r)}$$\n",
    "Given the input\n",
    "$$p(s) = \n",
    "\\left(\n",
    "\\begin{array}{cc}\n",
    "\\dfrac{1}{3} \\\\\n",
    "\\dfrac{1}{3} \\\\\n",
    "\\dfrac{1}{3}\n",
    "\\end{array}\n",
    "\\right)\n",
    "\\quad\n",
    "p(r|s) = \n",
    "\\left(\n",
    "\\begin{array}{cc}\n",
    "\\dfrac{2}{3} & \\dfrac{5}{18} & \\dfrac{1}{18}\\\\\n",
    "\\dfrac{5}{18} & \\dfrac{2}{3} & \\dfrac{1}{18}\\\\\n",
    "\\dfrac{1}{36} & \\dfrac{1}{36} & \\dfrac{4}{9}\\\\\n",
    "\\dfrac{1}{36} & \\dfrac{1}{36} & \\dfrac{4}{9}\\\\\n",
    "\\end{array}\n",
    "\\right)\n",
    "$$"
   ]
  },
  {
   "cell_type": "code",
   "execution_count": 117,
   "metadata": {
    "executionInfo": {
     "elapsed": 2400,
     "status": "ok",
     "timestamp": 1608566501972,
     "user": {
      "displayName": "AD",
      "photoUrl": "https://lh3.googleusercontent.com/a-/AOh14Gjx_I26ZGCa4R1NaUrO4rg8RHBTjADOtriSJZ03_A=s64",
      "userId": "12357515783115079539"
     },
     "user_tz": -60
    },
    "id": "kxzMzccLKVLZ"
   },
   "outputs": [],
   "source": [
    "def calculate_I(prs, pr, ps):\n",
    "    return np.sum([s_p * np.sum([prs[r_idx, s_idx]*np.log2(prs[r_idx, s_idx]/pr[r_idx]) for r_idx, _ in enumerate(prs[:,s_idx])]) for s_idx,s_p in enumerate(ps)])"
   ]
  },
  {
   "cell_type": "code",
   "execution_count": 118,
   "metadata": {
    "colab": {
     "base_uri": "https://localhost:8080/"
    },
    "executionInfo": {
     "elapsed": 2385,
     "status": "ok",
     "timestamp": 1608566501973,
     "user": {
      "displayName": "AD",
      "photoUrl": "https://lh3.googleusercontent.com/a-/AOh14Gjx_I26ZGCa4R1NaUrO4rg8RHBTjADOtriSJZ03_A=s64",
      "userId": "12357515783115079539"
     },
     "user_tz": -60
    },
    "id": "uLc0GFDiGjNV",
    "outputId": "5bcbeba9-9b52-48b1-9fe2-dcedc534853a"
   },
   "outputs": [
    {
     "name": "stdout",
     "output_type": "stream",
     "text": [
      "Mutual information I(r|s)= 0.62352603568961\n"
     ]
    }
   ],
   "source": [
    "ps_exact = np.array([1/3,1/3,1/3])\n",
    "prs_exact = np.array([[2/3,5/18,1/18],\n",
    "                [5/18,2/3,1/18],\n",
    "                [1/36,1/36,4/9],\n",
    "                [1/36,1/36,4/9]])\n",
    "pr_exact = prs_exact @ ps_exact\n",
    "print(\"Mutual information I(r|s)=\", calculate_I(prs_exact,pr_exact,ps_exact))"
   ]
  },
  {
   "cell_type": "markdown",
   "metadata": {
    "id": "NjiURz7WYOYj"
   },
   "source": [
    "## 2.b Write a program that estimates p(rs) given p(rs) and N as input"
   ]
  },
  {
   "cell_type": "code",
   "execution_count": 119,
   "metadata": {
    "executionInfo": {
     "elapsed": 2371,
     "status": "ok",
     "timestamp": 1608566501975,
     "user": {
      "displayName": "AD",
      "photoUrl": "https://lh3.googleusercontent.com/a-/AOh14Gjx_I26ZGCa4R1NaUrO4rg8RHBTjADOtriSJZ03_A=s64",
      "userId": "12357515783115079539"
     },
     "user_tz": -60
    },
    "id": "-Xkk-o9bQaYg"
   },
   "outputs": [],
   "source": [
    "def sample_prs_naive(prs_exact, N):\n",
    "    samples = np.zeros_like(prs_exact)\n",
    "    for s in range(prs_exact.shape[1]):\n",
    "        cump = np.cumsum(prs_exact[:,s])\n",
    "        for ri in np.random.uniform(high=cump[-1],size=(N)):\n",
    "            samples[0,s] += 1 if ri<cump[0] else 0\n",
    "            for r in range(1,len(cump)):\n",
    "                samples[r,s] += 1 if ri>=cump[r-1] and ri<cump[r] else 0\n",
    "    return samples/N"
   ]
  },
  {
   "cell_type": "markdown",
   "metadata": {
    "id": "duulID7OKVLd"
   },
   "source": [
    " ## 2.c Verify that your program works by comparing with the given values from p(rs)"
   ]
  },
  {
   "cell_type": "code",
   "execution_count": 120,
   "metadata": {
    "colab": {
     "base_uri": "https://localhost:8080/"
    },
    "executionInfo": {
     "elapsed": 3658,
     "status": "ok",
     "timestamp": 1608566503279,
     "user": {
      "displayName": "AD",
      "photoUrl": "https://lh3.googleusercontent.com/a-/AOh14Gjx_I26ZGCa4R1NaUrO4rg8RHBTjADOtriSJZ03_A=s64",
      "userId": "12357515783115079539"
     },
     "user_tz": -60
    },
    "id": "h3PCGKMGKVLe",
    "outputId": "864b264c-796b-4c66-d277-56852e638c72"
   },
   "outputs": [
    {
     "name": "stdout",
     "output_type": "stream",
     "text": [
      "Exact distribution p(r|s):\n",
      "\n",
      "[[0.66666667 0.27777778 0.05555556]\n",
      " [0.27777778 0.66666667 0.05555556]\n",
      " [0.02777778 0.02777778 0.44444444]\n",
      " [0.02777778 0.02777778 0.44444444]]\n",
      "Estimated distribution p(r|s):\n",
      "\n",
      "[[0.66772 0.27618 0.05622]\n",
      " [0.27707 0.66722 0.05496]\n",
      " [0.02717 0.02812 0.44622]\n",
      " [0.02804 0.02848 0.4426 ]]\n"
     ]
    }
   ],
   "source": [
    "ps_exact = np.array([1/3,1/3,1/3])\n",
    "prs_exact = np.array([[2/3,5/18,1/18],\n",
    "                [5/18,2/3,1/18],\n",
    "                [1/36,1/36,4/9],\n",
    "                [1/36,1/36,4/9]])\n",
    "pr_exact = prs_exact @ ps_exact\n",
    "\n",
    "print(\"Exact distribution p(r|s):\\n\")\n",
    "print(prs_exact)\n",
    "print(\"Estimated distribution p(r|s):\\n\")\n",
    "print(sample_prs_naive(prs_exact,100000))"
   ]
  },
  {
   "cell_type": "markdown",
   "metadata": {
    "id": "PowfWjTGKVLf"
   },
   "source": [
    "We can see that our program reproduces the given values with a certain margin of error."
   ]
  },
  {
   "cell_type": "markdown",
   "metadata": {
    "id": "0zXzh8Q4jvzN"
   },
   "source": [
    "## 2.d Strong's method for Bias reduction\n",
    "Strong et al formulated a function that fits to noisy sampling estimates, which can be extrapolated to calculate the noise free estimate. We denote strongs formula as follows:"
   ]
  },
  {
   "cell_type": "code",
   "execution_count": 121,
   "metadata": {
    "executionInfo": {
     "elapsed": 3633,
     "status": "ok",
     "timestamp": 1608566503283,
     "user": {
      "displayName": "AD",
      "photoUrl": "https://lh3.googleusercontent.com/a-/AOh14Gjx_I26ZGCa4R1NaUrO4rg8RHBTjADOtriSJZ03_A=s64",
      "userId": "12357515783115079539"
     },
     "user_tz": -60
    },
    "id": "m-ieLjJhKVLf"
   },
   "outputs": [],
   "source": [
    "def strong(N, a, b, h_inf):\n",
    "    return h_inf + a/N + b/(N**2)"
   ]
  },
  {
   "cell_type": "markdown",
   "metadata": {
    "id": "ef9v0IMWKVLg"
   },
   "source": [
    "## 2.d.1 Estimate H(r) as a function of N and calculate $H(r)_{\\infty}$ using Strong's method"
   ]
  },
  {
   "cell_type": "markdown",
   "metadata": {
    "id": "ddDqe0XkKVLg"
   },
   "source": [
    "To calculate $H(r)$ we need to first calculate p(r), which we do as follows:\n",
    "$$p(r) = p(r|s) \\cdot p(s)$$\n",
    "After this we can calculate H(r) using the following formula:\n",
    "$$H(r)=-\\sum p(r)\\log_2(p(r))$$\n",
    "Since we want to estimate H(r as a function of N, we need to use the estimate of the distribution p(r|s) instead of the actual distribution)"
   ]
  },
  {
   "cell_type": "code",
   "execution_count": 122,
   "metadata": {
    "executionInfo": {
     "elapsed": 3614,
     "status": "ok",
     "timestamp": 1608566503284,
     "user": {
      "displayName": "AD",
      "photoUrl": "https://lh3.googleusercontent.com/a-/AOh14Gjx_I26ZGCa4R1NaUrO4rg8RHBTjADOtriSJZ03_A=s64",
      "userId": "12357515783115079539"
     },
     "user_tz": -60
    },
    "id": "nAGzsQ0uKVLg"
   },
   "outputs": [],
   "source": [
    "def calculate_hr(pr):\n",
    "    return - np.sum([r_p * np.log2(r_p) for r_p in pr])"
   ]
  },
  {
   "cell_type": "code",
   "execution_count": 123,
   "metadata": {
    "executionInfo": {
     "elapsed": 3600,
     "status": "ok",
     "timestamp": 1608566503286,
     "user": {
      "displayName": "AD",
      "photoUrl": "https://lh3.googleusercontent.com/a-/AOh14Gjx_I26ZGCa4R1NaUrO4rg8RHBTjADOtriSJZ03_A=s64",
      "userId": "12357515783115079539"
     },
     "user_tz": -60
    },
    "id": "hAPBWA0gKVLh"
   },
   "outputs": [],
   "source": [
    "def sample_hr_naive(prs_exact,ps_exact,N):\n",
    "    prs_naive = sample_prs_naive(prs_exact,N) + sys.float_info.epsilon\n",
    "    pr_naive = prs_naive @ ps_exact\n",
    "    return calculate_hr(pr_naive)"
   ]
  },
  {
   "cell_type": "code",
   "execution_count": 124,
   "metadata": {
    "colab": {
     "base_uri": "https://localhost:8080/",
     "height": 312
    },
    "executionInfo": {
     "elapsed": 18889,
     "status": "ok",
     "timestamp": 1608566518602,
     "user": {
      "displayName": "AD",
      "photoUrl": "https://lh3.googleusercontent.com/a-/AOh14Gjx_I26ZGCa4R1NaUrO4rg8RHBTjADOtriSJZ03_A=s64",
      "userId": "12357515783115079539"
     },
     "user_tz": -60
    },
    "id": "1hibyXKkKVLh",
    "outputId": "554ddee9-86bb-41da-e7fa-663cb9eadbab"
   },
   "outputs": [
    {
     "data": {
      "image/png": "[encoded data removed]",
      "text/plain": [
       "<Figure size 432x288 with 1 Axes>"
      ]
     },
     "metadata": {
      "needs_background": "light",
      "tags": []
     },
     "output_type": "display_data"
    },
    {
     "name": "stdout",
     "output_type": "stream",
     "text": [
      "H(r) infinite: 1.9178827330587642\n"
     ]
    }
   ],
   "source": [
    "ps_exact = np.array([1/3,1/3,1/3])\n",
    "prs_exact = np.array([[2/3,5/18,1/18],\n",
    "                [5/18,2/3,1/18],\n",
    "                [1/36,1/36,4/9],\n",
    "                [1/36,1/36,4/9]])\n",
    "\n",
    "repeat=100\n",
    "nspace = np.arange(30,500,10)\n",
    "hr_naive = np.sum([np.array([sample_hr_naive(prs_exact, ps_exact, n) for n in nspace]) for _ in range(repeat)], axis=0)/repeat\n",
    "\n",
    "plt.title('H(r) estimated as a function of N')\n",
    "plt.ylabel('H(r)')\n",
    "plt.xlabel('N')\n",
    "plt.plot(nspace, hr_naive, label='estimate')\n",
    "plt.legend()\n",
    "plt.show()\n",
    "\n",
    "hr_inf, _ = curve_fit(strong, nspace, hr_naive)\n",
    "print(\"H(r) infinite:\",hr_inf[2])"
   ]
  },
  {
   "cell_type": "markdown",
   "metadata": {
    "id": "OTKJWdVAKVLi"
   },
   "source": [
    "## 2.d.2 Estimate H(r|s) as a function of N Calculate $H(r|s)_{\\infty}$ using Strong's method"
   ]
  },
  {
   "cell_type": "markdown",
   "metadata": {
    "id": "p6YZAMJOKVLi"
   },
   "source": [
    "To do the same thing for H(r|s) we will calculate the following:\n",
    "$$H(r|s)=-\\sum_s p(s) \\sum_rp(r|s)log_2(p(r|s))$$\n"
   ]
  },
  {
   "cell_type": "code",
   "execution_count": 125,
   "metadata": {
    "executionInfo": {
     "elapsed": 18871,
     "status": "ok",
     "timestamp": 1608566518603,
     "user": {
      "displayName": "AD",
      "photoUrl": "https://lh3.googleusercontent.com/a-/AOh14Gjx_I26ZGCa4R1NaUrO4rg8RHBTjADOtriSJZ03_A=s64",
      "userId": "12357515783115079539"
     },
     "user_tz": -60
    },
    "id": "9tfTjEFPKVLj"
   },
   "outputs": [],
   "source": [
    "def calculate_hrs(prs, ps):\n",
    "    return - np.sum([s_p * np.sum([prs[r_idx, s_idx]*np.log2(prs[r_idx, s_idx]) for r_idx, _ in enumerate(prs[:,s_idx])]) for s_idx,s_p in enumerate(ps)])"
   ]
  },
  {
   "cell_type": "code",
   "execution_count": 126,
   "metadata": {
    "executionInfo": {
     "elapsed": 18855,
     "status": "ok",
     "timestamp": 1608566518604,
     "user": {
      "displayName": "AD",
      "photoUrl": "https://lh3.googleusercontent.com/a-/AOh14Gjx_I26ZGCa4R1NaUrO4rg8RHBTjADOtriSJZ03_A=s64",
      "userId": "12357515783115079539"
     },
     "user_tz": -60
    },
    "id": "eVtFE3kTKVLr"
   },
   "outputs": [],
   "source": [
    "def sample_hrs_naive(prs_exact,ps_exact,N):\n",
    "    prs_naive = sample_prs_naive(prs_exact,N) + sys.float_info.epsilon\n",
    "    return calculate_hrs(prs_naive, ps_exact)"
   ]
  },
  {
   "cell_type": "code",
   "execution_count": 127,
   "metadata": {
    "colab": {
     "base_uri": "https://localhost:8080/",
     "height": 312
    },
    "executionInfo": {
     "elapsed": 34496,
     "status": "ok",
     "timestamp": 1608566534267,
     "user": {
      "displayName": "AD",
      "photoUrl": "https://lh3.googleusercontent.com/a-/AOh14Gjx_I26ZGCa4R1NaUrO4rg8RHBTjADOtriSJZ03_A=s64",
      "userId": "12357515783115079539"
     },
     "user_tz": -60
    },
    "id": "B9y1o-P6KVLr",
    "outputId": "91e1bed0-9ab7-4a8f-dc59-f9dcbd0b7a88"
   },
   "outputs": [
    {
     "data": {
      "image/png": "[encoded data removed]",
      "text/plain": [
       "<Figure size 432x288 with 1 Axes>"
      ]
     },
     "metadata": {
      "needs_background": "light",
      "tags": []
     },
     "output_type": "display_data"
    },
    {
     "name": "stdout",
     "output_type": "stream",
     "text": [
      "H(r|s) infinite: 1.2957158304054146\n"
     ]
    }
   ],
   "source": [
    "ps_exact = np.array([1/3,1/3,1/3])\n",
    "prs_exact = np.array([[2/3,5/18,1/18],\n",
    "                [5/18,2/3,1/18],\n",
    "                [1/36,1/36,4/9],\n",
    "                [1/36,1/36,4/9]])\n",
    "\n",
    "repeat = 100\n",
    "nspace = np.arange(30,500,10)\n",
    "hrs_naive = np.sum([np.array([sample_hrs_naive(prs_exact, ps_exact, n) for n in nspace]) for _ in range(repeat)], axis=0)/repeat\n",
    "\n",
    "plt.title('Average H(r|s) estimated as a function of N')\n",
    "plt.ylabel('H(r|s)')\n",
    "plt.xlabel('N')\n",
    "plt.plot(nspace, hrs_naive, label='estimate')\n",
    "plt.legend()\n",
    "plt.show()\n",
    "\n",
    "hrs_inf, _ = curve_fit(strong, nspace, hrs_naive)\n",
    "print(\"H(r|s) infinite:\",hrs_inf[2])"
   ]
  },
  {
   "cell_type": "markdown",
   "metadata": {
    "id": "comMcpC5KVLs"
   },
   "source": [
    "## 2.d.3 Calculate the mutual information estimate using Strong's method"
   ]
  },
  {
   "cell_type": "code",
   "execution_count": 128,
   "metadata": {
    "colab": {
     "base_uri": "https://localhost:8080/"
    },
    "executionInfo": {
     "elapsed": 34474,
     "status": "ok",
     "timestamp": 1608566534268,
     "user": {
      "displayName": "AD",
      "photoUrl": "https://lh3.googleusercontent.com/a-/AOh14Gjx_I26ZGCa4R1NaUrO4rg8RHBTjADOtriSJZ03_A=s64",
      "userId": "12357515783115079539"
     },
     "user_tz": -60
    },
    "id": "okmQJH5aKVLs",
    "outputId": "c170c4c6-7cb6-42ce-81a6-2775824d7fa3"
   },
   "outputs": [
    {
     "name": "stdout",
     "output_type": "stream",
     "text": [
      "Bias reduced mutual informtion I_inf(r;s): 0.6221669026533496\n"
     ]
    }
   ],
   "source": [
    "print(\"Bias reduced mutual informtion I_inf(r;s):\",hr_inf[2] - hrs_inf[2])"
   ]
  },
  {
   "cell_type": "markdown",
   "metadata": {
    "id": "VUSfYviMKVLu"
   },
   "source": [
    "As we can see, the mutual information estimate after bias reduction using strongs method is very close to the exact mutual information."
   ]
  },
  {
   "cell_type": "markdown",
   "metadata": {
    "id": "VV4V-oMuKVLw"
   },
   "source": [
    "## 2.d.4 Calculate the bias at N=30 using strongs method"
   ]
  },
  {
   "cell_type": "code",
   "execution_count": 129,
   "metadata": {
    "colab": {
     "base_uri": "https://localhost:8080/"
    },
    "executionInfo": {
     "elapsed": 34449,
     "status": "ok",
     "timestamp": 1608566534269,
     "user": {
      "displayName": "AD",
      "photoUrl": "https://lh3.googleusercontent.com/a-/AOh14Gjx_I26ZGCa4R1NaUrO4rg8RHBTjADOtriSJZ03_A=s64",
      "userId": "12357515783115079539"
     },
     "user_tz": -60
    },
    "id": "pNiA8loNKVLw",
    "outputId": "bd0ea2b5-f8c8-44f9-e74b-914591da30d7"
   },
   "outputs": [
    {
     "name": "stdout",
     "output_type": "stream",
     "text": [
      "estimate H(r) bias for N=30 -0.018697639810887567\n",
      "estimate H(r|s) bias for N=30 -0.0745386538116819\n"
     ]
    }
   ],
   "source": [
    "print(\"estimate H(r) bias for N=30\", strong(30, *hr_inf) - hr_inf[2])\n",
    "print(\"estimate H(r|s) bias for N=30\", strong(30, *hrs_inf) - hrs_inf[2])"
   ]
  },
  {
   "cell_type": "markdown",
   "metadata": {
    "id": "CqUo2feNKVLx"
   },
   "source": [
    "We can see that the estimate using the fit tells us that the bias should be about -0.07 which is expected given that we know the bias of entropy of r and that of r given s to be negative."
   ]
  },
  {
   "cell_type": "markdown",
   "metadata": {
    "id": "tXTvFrHFXKN2"
   },
   "source": [
    "## 3.1 Manual calculation of H(r) and H(r|s)\n",
    "In this exercise we will calculate both H(R) and H(R|s). Firstly H(R|s):\n",
    "\n",
    "$ H(R|s)=-\\sum_{r,s}^{} p(r_a,r_b|s) * log_{2}(p(r_a,r_b|s)) = - 1 * 1/2 * \\left( \\dfrac{4}{18}*log_{2}(\\dfrac{4}{18}) + \\dfrac{3}{18}*log_{2}(\\dfrac{3}{18} ) +...+ \\dfrac{1}{18}*log_{2}(\\dfrac{1}{18}) + \\dfrac{1}{18}*log_{2}(\\dfrac{1}{18}) + \\dfrac{1}{18}*log_{2}(\\dfrac{1}{18}) + \\dfrac{7}{144}*log_{2}(\\dfrac{7}{144} +\\dfrac{1}{144}*log_{2}(\\dfrac{1}{144}) +...+\\dfrac{3}{18}*log_{2}(\\dfrac{3}{18})+\\dfrac{4}{18}*log_{2}(\\dfrac{4}{18}) \\right) = 2.76781425... $\n",
    "\n",
    "Notice that in the above we skipped over the term $0log(0)$, as this term has no probability we assumed this to be equal 0.\n",
    "\n",
    "Next we will have a look at H(R), but in order to compute this we firstly need to rewrite the matrices $p(r_a,r_b|s_i)$ into a 9 by 2 matrix. We thus need to understand the meaning of the positions in the current 3 by 3 matrices. Each position in these matrices means the response for a combination of $r_a,r_b$ where the given stimulus $s_i$ determines in which of the two matrices you are. We can order this into the 9 by 2 matrix by making the columns represent the 2 different stimuli, $s$, and the 9 rows the different combinations of $r_a,r_b$. We get: \n",
    "\n",
    "$p(\\vec{r}|\\vec{s})= \\begin{bmatrix} \\dfrac{4}{18} & \\dfrac{1}{18} \\\\ \\dfrac{3}{18} & \\dfrac{7}{144} \\\\\\dfrac{1}{18} & \\dfrac{1}{144} \\\\\\dfrac{3}{18} & \\dfrac{1}{18} \\\\\\dfrac{4}{18} & \\dfrac{4}{18} \\\\\\dfrac{1}{18} & \\dfrac{3}{18} \\\\\\dfrac{1}{18} & \\dfrac{1}{18} \\\\0 & \\dfrac{3}{18} \\\\\\dfrac{1}{18} & \\dfrac{4}{18} \\\\ \\end{bmatrix}, p(\\vec{s})= \\begin{bmatrix} \\dfrac{1}{2} \\\\ \\dfrac{1}{2} \\end{bmatrix} \\rightarrow p(\\vec{r})=p(\\vec{r}|\\vec{s})\\cdot p(\\vec{s})=\\begin{bmatrix} \\dfrac{5}{36} \\\\ \\dfrac{31}{288}  \\\\\\dfrac{1}{32}\\\\\\dfrac{2}{18}  \\\\\\dfrac{4}{18} \\\\\\dfrac{2}{18} \\\\\\dfrac{1}{18}  \\\\\\dfrac{1}{12} \\\\\\dfrac{5}{36}\\\\ \\end{bmatrix}$\n",
    "\n",
    "And now we can calculate H(R):\n",
    "\n",
    "$H(R) = -\\sum_{r} p(r)*log_2(p(r)) = - \\left( \\dfrac{5}{36} * log_{2}(\\dfrac{5}{36}) + \\dfrac{31}{288} * log_{2}(\\dfrac{31}{288}) + ... + \\dfrac{1}{12} * log_{2}(\\dfrac{1}{12}) +\\dfrac{5}{36} * log_{2}(\\dfrac{5}{36}) \\right) = 3.02883348$"
   ]
  },
  {
   "cell_type": "markdown",
   "metadata": {
    "id": "opshjAPsKVLx"
   },
   "source": [
    "## 3.a.1 Calculate H(r) exactly"
   ]
  },
  {
   "cell_type": "code",
   "execution_count": 130,
   "metadata": {
    "colab": {
     "base_uri": "https://localhost:8080/"
    },
    "executionInfo": {
     "elapsed": 34434,
     "status": "ok",
     "timestamp": 1608566534270,
     "user": {
      "displayName": "AD",
      "photoUrl": "https://lh3.googleusercontent.com/a-/AOh14Gjx_I26ZGCa4R1NaUrO4rg8RHBTjADOtriSJZ03_A=s64",
      "userId": "12357515783115079539"
     },
     "user_tz": -60
    },
    "id": "-qSz4jwuKVLx",
    "outputId": "9169ffcb-a4fc-41e2-c1a0-f5a400b4974f"
   },
   "outputs": [
    {
     "name": "stdout",
     "output_type": "stream",
     "text": [
      "H(r)= 3.0105404242087337\n"
     ]
    }
   ],
   "source": [
    "prs1 = np.array([[4/18,3/18,1/18],\n",
    "                 [3/18,4/18,1/18],\n",
    "                 [1/18,0,1/18]])\n",
    "prs2 = np.array([[1/18,7/144,1/144],\n",
    "                 [1/18,4/18,3/18],\n",
    "                 [1/18,3/18,4/18]])\n",
    "prs_exact = np.zeros((9,2))\n",
    "prs_exact[:,0]=prs1.reshape((9))\n",
    "prs_exact[:,1]=prs2.reshape((9))\n",
    "ps_exact = np.array([0.5,0.5])\n",
    "pr_exact = prs_exact @ ps_exact\n",
    "\n",
    "print(\"H(r)=\", calculate_hr(pr_exact))"
   ]
  },
  {
   "cell_type": "markdown",
   "metadata": {
    "id": "9hpzw7V1KVLy"
   },
   "source": [
    "## 3.a.2 Calculate H(r|s) exactly"
   ]
  },
  {
   "cell_type": "code",
   "execution_count": 131,
   "metadata": {
    "colab": {
     "base_uri": "https://localhost:8080/"
    },
    "executionInfo": {
     "elapsed": 34418,
     "status": "ok",
     "timestamp": 1608566534272,
     "user": {
      "displayName": "AD",
      "photoUrl": "https://lh3.googleusercontent.com/a-/AOh14Gjx_I26ZGCa4R1NaUrO4rg8RHBTjADOtriSJZ03_A=s64",
      "userId": "12357515783115079539"
     },
     "user_tz": -60
    },
    "id": "iF0Mi4cOKVLy",
    "outputId": "c968ca10-0e88-439b-f8df-7a04d2895df5"
   },
   "outputs": [
    {
     "name": "stdout",
     "output_type": "stream",
     "text": [
      "H(r|s)= 2.767814291290814\n"
     ]
    }
   ],
   "source": [
    "prs1 = np.array([[4/18,3/18,1/18],\n",
    "                 [3/18,4/18,1/18],\n",
    "                 [1/18,0,1/18]])\n",
    "prs2 = np.array([[1/18,7/144,1/144],\n",
    "                 [1/18,4/18,3/18],\n",
    "                 [1/18,3/18,4/18]])\n",
    "prs_exact = np.zeros((9,2))\n",
    "prs_exact[:,0]=prs1.reshape((9))\n",
    "prs_exact[:,1]=prs2.reshape((9))\n",
    "ps_exact = np.array([0.5,0.5])\n",
    "pr_exact = prs_exact @ ps_exact\n",
    "\n",
    "print(\"H(r|s)=\", calculate_hrs(prs_exact+sys.float_info.epsilon, ps_exact))"
   ]
  },
  {
   "cell_type": "markdown",
   "metadata": {
    "id": "5B154yM-KVLy"
   },
   "source": [
    "## 3.a.3 Calculate I(r;s) exactly"
   ]
  },
  {
   "cell_type": "code",
   "execution_count": 132,
   "metadata": {
    "colab": {
     "base_uri": "https://localhost:8080/"
    },
    "executionInfo": {
     "elapsed": 34401,
     "status": "ok",
     "timestamp": 1608566534273,
     "user": {
      "displayName": "AD",
      "photoUrl": "https://lh3.googleusercontent.com/a-/AOh14Gjx_I26ZGCa4R1NaUrO4rg8RHBTjADOtriSJZ03_A=s64",
      "userId": "12357515783115079539"
     },
     "user_tz": -60
    },
    "id": "0bWiZwTlKVLz",
    "outputId": "d03964e8-c5fa-4c01-b9bc-7ef809ffcfae"
   },
   "outputs": [
    {
     "name": "stdout",
     "output_type": "stream",
     "text": [
      "Mutual information I(r|s)= 0.242726132917926\n"
     ]
    }
   ],
   "source": [
    "prs1 = np.array([[4/18,3/18,1/18],\n",
    "                 [3/18,4/18,1/18],\n",
    "                 [1/18,0,1/18]])\n",
    "prs2 = np.array([[1/18,7/144,1/144],\n",
    "                 [1/18,4/18,3/18],\n",
    "                 [1/18,3/18,4/18]])\n",
    "prs_exact = np.zeros((9,2))\n",
    "prs_exact[:,0]=prs1.reshape((9))\n",
    "prs_exact[:,1]=prs2.reshape((9))\n",
    "ps_exact = np.array([0.5,0.5])\n",
    "pr_exact = prs_exact @ ps_exact\n",
    "\n",
    "print(\"Mutual information I(r|s)=\", calculate_I(prs_exact+sys.float_info.epsilon,pr_exact,ps_exact))"
   ]
  },
  {
   "cell_type": "markdown",
   "metadata": {
    "id": "48VKpf0zKVLz"
   },
   "source": [
    "## 3.b.1 Estimate the bias in the entropies for N=100"
   ]
  },
  {
   "cell_type": "code",
   "execution_count": 134,
   "metadata": {
    "colab": {
     "base_uri": "https://localhost:8080/"
    },
    "executionInfo": {
     "elapsed": 40230,
     "status": "ok",
     "timestamp": 1608566540150,
     "user": {
      "displayName": "AD",
      "photoUrl": "https://lh3.googleusercontent.com/a-/AOh14Gjx_I26ZGCa4R1NaUrO4rg8RHBTjADOtriSJZ03_A=s64",
      "userId": "12357515783115079539"
     },
     "user_tz": -60
    },
    "id": "1g1Lyj6UKVL2",
    "outputId": "71f68f70-8f20-4189-af87-156cd9978773"
   },
   "outputs": [
    {
     "name": "stdout",
     "output_type": "stream",
     "text": [
      "Bias in H(r) estimate: -0.029513517806536438\n",
      "Bias in H(r|s) estimate: -0.05611356565272008\n"
     ]
    }
   ],
   "source": [
    "prs1 = np.array([[4/18,3/18,1/18],\n",
    "                 [3/18,4/18,1/18],\n",
    "                 [1/18,0,1/18]])\n",
    "prs2 = np.array([[1/18,7/144,1/144],\n",
    "                 [1/18,4/18,3/18],\n",
    "                 [1/18,3/18,4/18]])\n",
    "prs_exact = np.zeros((9,2))\n",
    "prs_exact[:,0]=prs1.reshape((9))\n",
    "prs_exact[:,1]=prs2.reshape((9))\n",
    "ps_exact = np.array([0.5,0.5])\n",
    "pr_exact = prs_exact @ ps_exact\n",
    "\n",
    "repeat=1000\n",
    "hr_naive = np.mean([sample_hr_naive(prs_exact, ps_exact, 100) for _ in range(repeat)], axis=0)\n",
    "hr_exact = calculate_hr(pr_exact)\n",
    "print(\"Bias in H(r) estimate:\",hr_naive - hr_exact)\n",
    "\n",
    "hrs_naive = np.mean([sample_hrs_naive(prs_exact, ps_exact, 100) for _ in range(repeat)], axis=0)\n",
    "hrs_exact = calculate_hrs(prs_exact+sys.float_info.epsilon, ps_exact)\n",
    "print(\"Bias in H(r|s) estimate:\",hrs_naive - hrs_exact)"
   ]
  },
  {
   "cell_type": "markdown",
   "metadata": {
    "id": "qOeZbWnWKVL2"
   },
   "source": [
    "## 3.b.1 Estimate the bias in the entropies for N=1000"
   ]
  },
  {
   "cell_type": "code",
   "execution_count": 135,
   "metadata": {
    "colab": {
     "base_uri": "https://localhost:8080/"
    },
    "executionInfo": {
     "elapsed": 75582,
     "status": "ok",
     "timestamp": 1608566575523,
     "user": {
      "displayName": "AD",
      "photoUrl": "https://lh3.googleusercontent.com/a-/AOh14Gjx_I26ZGCa4R1NaUrO4rg8RHBTjADOtriSJZ03_A=s64",
      "userId": "12357515783115079539"
     },
     "user_tz": -60
    },
    "id": "C62q65dNKVL2",
    "outputId": "54f9875f-3bc1-482e-b9ff-a55dd770baca"
   },
   "outputs": [
    {
     "name": "stdout",
     "output_type": "stream",
     "text": [
      "Bias in H(r) estimate: -0.00281931389411616\n",
      "Bias in H(r|s) estimate: -0.00504566611445334\n"
     ]
    }
   ],
   "source": [
    "prs1 = np.array([[4/18,3/18,1/18],\n",
    "                 [3/18,4/18,1/18],\n",
    "                 [1/18,0,1/18]])\n",
    "prs2 = np.array([[1/18,7/144,1/144],\n",
    "                 [1/18,4/18,3/18],\n",
    "                 [1/18,3/18,4/18]])\n",
    "prs_exact = np.zeros((9,2))\n",
    "prs_exact[:,0]=prs1.reshape((9))\n",
    "prs_exact[:,1]=prs2.reshape((9))\n",
    "ps_exact = np.array([0.5,0.5])\n",
    "pr_exact = prs_exact @ ps_exact\n",
    "\n",
    "repeat=1000\n",
    "hr_naive = np.mean([sample_hr_naive(prs_exact, ps_exact, 1000) for _ in range(repeat)], axis=0)\n",
    "hr_exact = calculate_hr(pr_exact)\n",
    "print(\"Bias in H(r) estimate:\",hr_naive - hr_exact)\n",
    "\n",
    "hrs_naive = np.mean([sample_hrs_naive(prs_exact, ps_exact, 1000) for _ in range(repeat)], axis=0)\n",
    "hrs_exact = calculate_hrs(prs_exact+sys.float_info.epsilon, ps_exact)\n",
    "print(\"Bias in H(r|s) estimate:\",hrs_naive - hrs_exact)"
   ]
  },
  {
   "cell_type": "markdown",
   "metadata": {
    "id": "Zs3RDjdnKVL3"
   },
   "source": [
    "## 3.c.1 Write a program to calculate the indipendent distribution"
   ]
  },
  {
   "cell_type": "code",
   "execution_count": 145,
   "metadata": {
    "executionInfo": {
     "elapsed": 980,
     "status": "ok",
     "timestamp": 1608568795416,
     "user": {
      "displayName": "AD",
      "photoUrl": "https://lh3.googleusercontent.com/a-/AOh14Gjx_I26ZGCa4R1NaUrO4rg8RHBTjADOtriSJZ03_A=s64",
      "userId": "12357515783115079539"
     },
     "user_tz": -60
    },
    "id": "E4CZ7reIKVL3"
   },
   "outputs": [],
   "source": [
    "def sample_prs_ind(prs_naive, ps_exact, N):\n",
    "    prs_neuron_a = np.empty((3,2))\n",
    "    prs_neuron_a[:,0] = np.sum(prs_naive[:,0].reshape((3,3)), axis=0)\n",
    "    prs_neuron_a[:,1] = np.sum(prs_naive[:,1].reshape((3,3)), axis=0)\n",
    "\n",
    "    prs_neuron_b = np.empty((3,2))\n",
    "    prs_neuron_b[:,0] = np.sum(prs_naive[:,0].reshape((3,3)), axis=1)\n",
    "    prs_neuron_b[:,1] = np.sum(prs_naive[:,1].reshape((3,3)), axis=1)\n",
    "\n",
    "    prs_ind = np.zeros((9,2))\n",
    "    prs_ind[:,0]=np.outer(prs_neuron_a[:,0], prs_neuron_b[:,0]).reshape((9))\n",
    "    prs_ind[:,0]/=np.sum(prs_ind[:,0])\n",
    "    prs_ind[:,1]=np.outer(prs_neuron_a[:,1], prs_neuron_b[:,1]).reshape((9))\n",
    "    prs_ind[:,1]/=np.sum(prs_ind[:,1])\n",
    "    return prs_ind"
   ]
  },
  {
   "cell_type": "markdown",
   "metadata": {
    "id": "hbrY_oTfKVL3"
   },
   "source": [
    "## 3.c.2 Write a program to calculate the shuffled distribution"
   ]
  },
  {
   "cell_type": "code",
   "execution_count": 146,
   "metadata": {
    "executionInfo": {
     "elapsed": 1313,
     "status": "ok",
     "timestamp": 1608568796768,
     "user": {
      "displayName": "AD",
      "photoUrl": "https://lh3.googleusercontent.com/a-/AOh14Gjx_I26ZGCa4R1NaUrO4rg8RHBTjADOtriSJZ03_A=s64",
      "userId": "12357515783115079539"
     },
     "user_tz": -60
    },
    "id": "jWIbXyvHKVL4"
   },
   "outputs": [],
   "source": [
    "def shuffle_prs_naive(prs_naive, N):\n",
    "    samples = prs_naive * N\n",
    "    for stimulus in range(samples.shape[1]):\n",
    "        sample_matrix = samples[:,stimulus].reshape((3,3)).astype(int)\n",
    "        sample_list = np.array([[a,b] for b, row in enumerate(sample_matrix) for a, element in enumerate(row) for _ in range(element)])\n",
    "        np.random.shuffle(sample_list[:,0])\n",
    "        sample_matrix = np.zeros_like(sample_matrix)\n",
    "        for a, b in sample_list: sample_matrix[b, a] += 1\n",
    "        samples[:,stimulus] = sample_matrix.reshape((9))\n",
    "    return samples/N"
   ]
  },
  {
   "cell_type": "markdown",
   "metadata": {
    "id": "9EIIp18oKVL4"
   },
   "source": [
    "## 3.d Calculate the bias reduced entropy using $H=H_{naive}-H_{shuffle}+H_{ind}$"
   ]
  },
  {
   "cell_type": "code",
   "execution_count": 154,
   "metadata": {
    "colab": {
     "base_uri": "https://localhost:8080/"
    },
    "executionInfo": {
     "elapsed": 41961,
     "status": "ok",
     "timestamp": 1608570916453,
     "user": {
      "displayName": "AD",
      "photoUrl": "https://lh3.googleusercontent.com/a-/AOh14Gjx_I26ZGCa4R1NaUrO4rg8RHBTjADOtriSJZ03_A=s64",
      "userId": "12357515783115079539"
     },
     "user_tz": -60
    },
    "id": "IOPfq2BUKVL5",
    "outputId": "594c2aa4-d2fc-42e1-f759-5bc791c8646a"
   },
   "outputs": [
    {
     "name": "stdout",
     "output_type": "stream",
     "text": [
      "H(r)= 3.0076065556386338\n",
      "Bias of H(r)= -0.002933868570099918\n",
      "Bias reduced H(r)= 3.0087747472620543\n",
      "H(r|s)= 2.762218220876686\n",
      "Bias of H(r|s)= -0.005596070414128018\n",
      "Bias reduced H(r|s)= 2.7650402505200304\n",
      "Mutual information I(r|s)= 0.24538833476194766\n",
      "Bias of mutual information I(r|s)= 0.0026622018440281003\n",
      "Bias reduced mutual information I(r|s)= 0.24373449674202385\n"
     ]
    }
   ],
   "source": [
    "prs1 = np.array([[4/18,3/18,1/18],\n",
    "                 [3/18,4/18,1/18],\n",
    "                 [1/18,0,1/18]])\n",
    "prs2 = np.array([[1/18,7/144,1/144],\n",
    "                 [1/18,4/18,3/18],\n",
    "                 [1/18,3/18,4/18]])\n",
    "prs_exact = np.zeros((9,2))\n",
    "prs_exact[:,0]=prs1.reshape((9))\n",
    "prs_exact[:,1]=prs2.reshape((9))\n",
    "ps_exact = np.array([0.5,0.5])\n",
    "pr_exact = prs_exact @ ps_exact\n",
    "\n",
    "hr_naive = []\n",
    "hr_ind = []\n",
    "hr_shuffle = []\n",
    "hrs_naive = []\n",
    "hrs_ind = []\n",
    "hrs_shuffle = []\n",
    "\n",
    "for _ in range(1000):\n",
    "  N = 1000\n",
    "  prs_naive = sample_prs_naive(prs_exact, N)\n",
    "\n",
    "  prs_naive = sample_prs_naive(prs_exact, N)\n",
    "  prs_ind = sample_prs_ind(prs_naive, ps_exact, N)\n",
    "  prs_shuffle = shuffle_prs_naive(prs_naive, N)\n",
    "\n",
    "  pr_naive = prs_naive @ ps_exact\n",
    "  pr_ind = prs_ind @ ps_exact\n",
    "  pr_shuffle = prs_shuffle @ ps_exact\n",
    "\n",
    "  hr_naive.append(calculate_hr(pr_naive))\n",
    "  hr_ind.append(calculate_hr(pr_ind))\n",
    "  hr_shuffle.append(calculate_hr(pr_shuffle))\n",
    "\n",
    "  hrs_naive.append(calculate_hrs(prs_naive+sys.float_info.epsilon, ps_exact))\n",
    "  hrs_ind.append(calculate_hrs(prs_ind, ps_exact))\n",
    "  hrs_shuffle.append(calculate_hrs(prs_shuffle, ps_exact))\n",
    "\n",
    "hr_naive = np.mean(hr_naive)\n",
    "hr_ind = np.mean(hr_ind)\n",
    "hr_shuffle = np.mean(hr_shuffle)\n",
    "hr_exact = calculate_hr(pr_exact)\n",
    "\n",
    "hrs_naive = np.mean(hrs_naive)\n",
    "hrs_ind = np.mean(hrs_ind)\n",
    "hrs_shuffle = np.mean(hrs_shuffle)\n",
    "hrs_exact = calculate_hrs(prs_exact+sys.float_info.epsilon, ps_exact)\n",
    "\n",
    "print(\"H(r)=\", hr_naive)\n",
    "print(\"Bias of H(r)=\", hr_naive - hr_exact)\n",
    "print(\"Bias reduced H(r)=\", (hr_naive) - (hr_shuffle) + (hr_ind))\n",
    "print(\"H(r|s)=\", hrs_naive)\n",
    "print(\"Bias of H(r|s)=\", hrs_naive - hrs_exact)\n",
    "print(\"Bias reduced H(r|s)=\", hrs_naive - hrs_shuffle + hrs_ind)\n",
    "print(\"Mutual information I(r|s)=\", hr_naive - hrs_naive)\n",
    "print(\"Bias of mutual information I(r|s)=\", (hr_naive - hrs_naive) - (hr_exact - hrs_exact))\n",
    "print(\"Bias reduced mutual information I(r|s)=\", (hr_naive - hr_shuffle + hr_ind) - (hrs_naive - hrs_shuffle + hrs_ind))"
   ]
  },
  {
   "cell_type": "markdown",
   "metadata": {
    "id": "85uvjAXVTOkL"
   },
   "source": [
    "The results above are exactly as expected. We see that both the bias of H(r) and H(r|s) is negative. From this follows that the bias reduced entropies should be larger than the naive estimate. This is also the case. For the mutual information we see the inverse situation, as expected. The bias in the mutual information is positive, while the bias reduced version of the mutual information is smaller than the naive estimate of the mutual information. This shows that the procedure by Ince et al works on average."
   ]
  }
 ],
 "metadata": {
  "colab": {
   "collapsed_sections": [],
   "name": "CNSA6 arne.ipynb",
   "provenance": []
  },
  "kernelspec": {
   "display_name": "Python 3",
   "language": "python",
   "name": "python3"
  },
  "language_info": {
   "codemirror_mode": {
    "name": "ipython",
    "version": 3
   },
   "file_extension": ".py",
   "mimetype": "text/x-python",
   "name": "python",
   "nbconvert_exporter": "python",
   "pygments_lexer": "ipython3",
   "version": "3.8.5"
  }
 },
 "nbformat": 4,
 "nbformat_minor": 4
}
